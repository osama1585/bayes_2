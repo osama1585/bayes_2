{
 "cells": [
  {
   "cell_type": "markdown",
   "id": "bfa05446-7cef-40a9-a00d-4e415e0c88e9",
   "metadata": {},
   "source": [
    "\n",
    "\n",
    "<span style=color:green;font-size:55px>ASSIGNMENT<span>\n",
    "\n",
    "\n",
    "\n",
    "\n",
    "\n",
    "\n"
   ]
  },
  {
   "cell_type": "markdown",
   "id": "25aee5ad-484c-4780-ad1e-7b814114ceba",
   "metadata": {},
   "source": [
    "<span style=color:red;font-size:55px>Naive Bayes<span>"
   ]
  },
  {
   "cell_type": "markdown",
   "id": "4279a47a-aca0-46b0-b8e0-35869d6130b6",
   "metadata": {},
   "source": [
    "### Q1. A company conducted a survey of its employees and found that 70% of the employees use the company's health insurance plan, while 40% of the employees who use the plan are smokers. What is the probability that an employee is a smoker given that he/she uses the health insurance plan?\n",
    "- Using Bayes' theorem:\n",
    "  - Let A be the event that an employee is a smoker, and B be the event that the employee uses the health insurance plan.\n",
    "  - We need to find \\( P(A|B) \\), the probability that an employee is a smoker given that he/she uses the health insurance plan.\n",
    "  - Given:\n",
    "    - \\( P(A) = 40\\% = 0.4 \\) (Probability that an employee is a smoker)\n",
    "    - \\( P(B) = 70\\% = 0.7 \\) (Probability that an employee uses the health insurance plan)\n",
    "    - \\( P(B|A) = 40\\% = 0.4 \\) (Probability that an employee uses the health insurance plan given that he/she is a smoker)\n",
    "  - Using Bayes' theorem:\n",
    "    \\[ P(A|B) = \\frac{P(B|A) \\times P(A)}{P(B)} \\]\n",
    "    \\[ P(A|B) = \\frac{0.4 \\times 0.4}{0.7} \\]\n",
    "    \\[ P(A|B) ≈ 0.2286 \\]\n",
    "  - Therefore, the probability that an employee is a smoker given that he/she uses the health insurance plan is approximately 22.86%.\n",
    "\n",
    "### Q2. What is the difference between Bernoulli Naive Bayes and Multinomial Naive Bayes?\n",
    "- Bernoulli Naive Bayes and Multinomial Naive Bayes are two variants of Naive Bayes classifiers used for text classification.\n",
    "- Bernoulli Naive Bayes:\n",
    "  - Assumes that features are binary-valued (e.g., presence or absence of a term).\n",
    "  - Suitable for binary features (0 or 1).\n",
    "- Multinomial Naive Bayes:\n",
    "  - Assumes that features represent counts or frequencies (e.g., word counts in documents).\n",
    "  - Suitable for features that describe the frequency of occurrence of terms.\n",
    "\n",
    "### Q3. How does Bernoulli Naive Bayes handle missing values?\n",
    "- Bernoulli Naive Bayes treats missing values as an additional category.\n",
    "- When encountering missing values during prediction, Bernoulli Naive Bayes calculates the probability of the missing value being present or absent based on the training data.\n",
    "\n",
    "### Q4. Can Gaussian Naive Bayes be used for multi-class classification?\n",
    "- Yes, Gaussian Naive Bayes can be used for multi-class classification.\n",
    "- It assumes that features follow a Gaussian (normal) distribution and estimates the mean and variance of each feature for each class.\n",
    "- It assigns the class with the highest posterior probability based on the Gaussian likelihood function.\n",
    "\n",
    "### Q5. Assignment:\n",
    "#### Data preparation:\n",
    "- Download the \"Spambase Data Set\" from the UCI Machine Learning Repository.\n",
    "- This dataset contains email messages, where the goal is to predict whether a message is spam or not based on several input features.\n",
    "\n",
    "#### Implementation:\n",
    "- Implement Bernoulli Naive Bayes, Multinomial Naive Bayes, and Gaussian Naive Bayes classifiers using the scikit-learn library in Python.\n",
    "- Use 10-fold cross-validation to evaluate the performance of each classifier on the dataset.\n",
    "- Use the default hyperparameters for each classifier.\n",
    "\n",
    "#### Results:\n",
    "- Report the following performance metrics for each classifier:\n",
    "  - Accuracy\n",
    "  - Precision\n",
    "  - Recall\n",
    "  - F1 score\n",
    "\n",
    "#### Discussion:\n",
    "- Discuss the results obtained. Analyze which variant of Naive Bayes performed the best and why. Identify any limitations observed in Naive Bayes classifiers.\n",
    "\n",
    "#### Conclusion:\n",
    "- Summarize the findings and provide suggestions for future work.\n",
    "\n"
   ]
  },
  {
   "cell_type": "code",
   "execution_count": null,
   "id": "5c196545-3fa7-4ef0-a107-7d3a41af163d",
   "metadata": {},
   "outputs": [],
   "source": []
  }
 ],
 "metadata": {
  "kernelspec": {
   "display_name": "Python 3 (ipykernel)",
   "language": "python",
   "name": "python3"
  },
  "language_info": {
   "codemirror_mode": {
    "name": "ipython",
    "version": 3
   },
   "file_extension": ".py",
   "mimetype": "text/x-python",
   "name": "python",
   "nbconvert_exporter": "python",
   "pygments_lexer": "ipython3",
   "version": "3.10.8"
  }
 },
 "nbformat": 4,
 "nbformat_minor": 5
}
